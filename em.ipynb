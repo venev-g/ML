{
  "nbformat": 4,
  "nbformat_minor": 0,
  "metadata": {
    "colab": {
      "provenance": [],
      "authorship_tag": "ABX9TyOsmeGgUPdS1dAP7eU0Bm8/",
      "include_colab_link": true
    },
    "kernelspec": {
      "name": "python3",
      "display_name": "Python 3"
    },
    "language_info": {
      "name": "python"
    }
  },
  "cells": [
    {
      "cell_type": "markdown",
      "metadata": {
        "id": "view-in-github",
        "colab_type": "text"
      },
      "source": [
        "<a href=\"https://colab.research.google.com/github/venev-g/ML/blob/main/em.ipynb\" target=\"_parent\"><img src=\"https://colab.research.google.com/assets/colab-badge.svg\" alt=\"Open In Colab\"/></a>"
      ]
    },
    {
      "cell_type": "code",
      "execution_count": null,
      "metadata": {
        "id": "tbHwuBsrKnrg"
      },
      "outputs": [],
      "source": [
        "import numpy as np\n",
        "import math\n",
        "x = np.array([[1,8,12,7]])\n",
        "nMissing=2"
      ]
    },
    {
      "cell_type": "code",
      "source": [
        "n = np.shape(x)[1]"
      ],
      "metadata": {
        "id": "R1qv_7fELn-e"
      },
      "execution_count": null,
      "outputs": []
    },
    {
      "cell_type": "code",
      "source": [
        "print(f\"The training data:\\n{x}\")\n",
        "print(f\"The number of data present in x is: {n}\")"
      ],
      "metadata": {
        "id": "BFMH5VVgLqBy"
      },
      "execution_count": null,
      "outputs": []
    },
    {
      "cell_type": "code",
      "source": [
        "# The E-step\n",
        "\n",
        "meanI = np.sum(x) / (n + nMissing)\n",
        "missingValue = np.round(meanI)"
      ],
      "metadata": {
        "id": "7n_8Wc2XLz5e"
      },
      "execution_count": null,
      "outputs": []
    },
    {
      "cell_type": "code",
      "source": [
        "print(f\"The value of existing data is: {meanI}\")\n",
        "print(f\"The missing values may be: {missingValue}\")"
      ],
      "metadata": {
        "id": "1FTvdYjIL7M0"
      },
      "execution_count": null,
      "outputs": []
    },
    {
      "cell_type": "code",
      "source": [
        "meanPrevious = 0"
      ],
      "metadata": {
        "id": "dDbO5WpgL_OW"
      },
      "execution_count": null,
      "outputs": []
    },
    {
      "cell_type": "code",
      "source": [
        "while True:\n",
        "    meanT = meanI + (missingValue * nMissing) / (n + nMissing)\n",
        "    missingValue = meanT\n",
        "    meanDifference = meanT - meanPrevious\n",
        "    meanPrevious = meanT\n",
        "    print(f\"The present mean is: {np.round(meanT, 3)}\")\n",
        "    print(f\"The mean differnce: {np.round(meanDifference, 3)}\")\n",
        "    if meanDifference< 0.05:\n",
        "        break\n",
        "\n",
        "for i in range(nMissing):\n",
        "    x = np.append(x, np.array([[meanT]]), axis = 1)\n",
        "print(f\"The data with estimated outliers:\\n{np.round(x, 3)}\")"
      ],
      "metadata": {
        "id": "F_owqe7QMAXa"
      },
      "execution_count": null,
      "outputs": []
    },
    {
      "cell_type": "code",
      "source": [
        "# The M-step\n",
        "n = n + nMissing\n",
        "mu = np.array([[3,2,3,5,5,5,6]])\n",
        "sigma = np.array([[2,3,3,5,4,3,6]])\n",
        "print(f\"The mean is {mu}\")\n",
        "print(f\"The std is {sigma}\")\n",
        "\n",
        "for i in range(np.shape(mu)[1]):\n",
        "    logL = -np.sum(np.square(x-mu[0,i])/(2*np.square(sigma[0,i])))-(0.5*n*np.log10(2*math.pi))-n*np.log10(sigma[0,i])\n",
        "    print(mu[0,i], sigma[0,i], np.round(logL,3))"
      ],
      "metadata": {
        "id": "ExIA-H1sMTTi"
      },
      "execution_count": null,
      "outputs": []
    }
  ]
}