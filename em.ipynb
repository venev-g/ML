{
  "nbformat": 4,
  "nbformat_minor": 0,
  "metadata": {
    "colab": {
      "provenance": [],
      "authorship_tag": "ABX9TyOsmeGgUPdS1dAP7eU0Bm8/",
      "include_colab_link": true
    },
    "kernelspec": {
      "name": "python3",
      "display_name": "Python 3"
    },
    "language_info": {
      "name": "python"
    }
  },
  "cells": [
    {
      "cell_type": "markdown",
      "metadata": {
        "id": "view-in-github",
        "colab_type": "text"
      },
      "source": [
        "<a href=\"https://colab.research.google.com/github/venev-g/ML/blob/main/em.ipynb\" target=\"_parent\"><img src=\"https://colab.research.google.com/assets/colab-badge.svg\" alt=\"Open In Colab\"/></a>"
      ]
    },
    {
      "cell_type": "code",
      "execution_count": 1,
      "metadata": {
        "id": "tbHwuBsrKnrg"
      },
      "outputs": [],
      "source": [
        "import numpy as np\n",
        "import math\n",
        "x = np.array([[1,8,12,7]])\n",
        "nMissing=2"
      ]
    },
    {
      "cell_type": "code",
      "source": [
        "n = np.shape(x)[1]"
      ],
      "metadata": {
        "id": "R1qv_7fELn-e"
      },
      "execution_count": 2,
      "outputs": []
    },
    {
      "cell_type": "code",
      "source": [
        "print(f\"The training data:\\n{x}\")\n",
        "print(f\"The number of data present in x is: {n}\")"
      ],
      "metadata": {
        "colab": {
          "base_uri": "https://localhost:8080/"
        },
        "id": "BFMH5VVgLqBy",
        "outputId": "3baf5843-b841-4f38-9ed1-afe94b5d1b78"
      },
      "execution_count": 3,
      "outputs": [
        {
          "output_type": "stream",
          "name": "stdout",
          "text": [
            "The training data:\n",
            "[[ 1  8 12  7]]\n",
            "The number of data present in x is: 4\n"
          ]
        }
      ]
    },
    {
      "cell_type": "code",
      "source": [
        "# The E-step\n",
        "\n",
        "meanI = np.sum(x) / (n + nMissing)\n",
        "missingValue = np.round(meanI)"
      ],
      "metadata": {
        "id": "7n_8Wc2XLz5e"
      },
      "execution_count": 4,
      "outputs": []
    },
    {
      "cell_type": "code",
      "source": [
        "print(f\"The value of existing data is: {meanI}\")\n",
        "print(f\"The missing values may be: {missingValue}\")"
      ],
      "metadata": {
        "colab": {
          "base_uri": "https://localhost:8080/"
        },
        "id": "1FTvdYjIL7M0",
        "outputId": "9f94b42a-97e4-4f4b-fcdc-b063e7ec3f61"
      },
      "execution_count": 5,
      "outputs": [
        {
          "output_type": "stream",
          "name": "stdout",
          "text": [
            "The value of existing data is: 4.666666666666667\n",
            "The missing values may be: 5.0\n"
          ]
        }
      ]
    },
    {
      "cell_type": "code",
      "source": [
        "meanPrevious = 0"
      ],
      "metadata": {
        "id": "dDbO5WpgL_OW"
      },
      "execution_count": 6,
      "outputs": []
    },
    {
      "cell_type": "code",
      "source": [
        "while True:\n",
        "    meanT = meanI + (missingValue * nMissing) / (n + nMissing)\n",
        "    missingValue = meanT\n",
        "    meanDifference = meanT - meanPrevious\n",
        "    meanPrevious = meanT\n",
        "    print(f\"The present mean is: {np.round(meanT, 3)}\")\n",
        "    print(f\"The mean differnce: {np.round(meanDifference, 3)}\")\n",
        "    if meanDifference< 0.05:\n",
        "        break\n",
        "\n",
        "for i in range(nMissing):\n",
        "    x = np.append(x, np.array([[meanT]]), axis = 1)\n",
        "print(f\"The data with estimated outliers:\\n{np.round(x, 3)}\")"
      ],
      "metadata": {
        "colab": {
          "base_uri": "https://localhost:8080/"
        },
        "id": "F_owqe7QMAXa",
        "outputId": "ed20a6ac-8b4b-41a4-8141-ed7487e4adb1"
      },
      "execution_count": 7,
      "outputs": [
        {
          "output_type": "stream",
          "name": "stdout",
          "text": [
            "The present mean is: 6.333\n",
            "The mean differnce: 6.333\n",
            "The present mean is: 6.778\n",
            "The mean differnce: 0.444\n",
            "The present mean is: 6.926\n",
            "The mean differnce: 0.148\n",
            "The present mean is: 6.975\n",
            "The mean differnce: 0.049\n",
            "The data with estimated outliers:\n",
            "[[ 1.     8.    12.     7.     6.975  6.975]]\n"
          ]
        }
      ]
    },
    {
      "cell_type": "code",
      "source": [
        "# The M-step\n",
        "n = n + nMissing\n",
        "mu = np.array([[3,2,3,5,5,5,6]])\n",
        "sigma = np.array([[2,3,3,5,4,3,6]])\n",
        "print(f\"The mean is {mu}\")\n",
        "print(f\"The std is {sigma}\")\n",
        "\n",
        "for i in range(np.shape(mu)[1]):\n",
        "    logL = -np.sum(np.square(x-mu[0,i])/(2*np.square(sigma[0,i])))-(0.5*n*np.log10(2*math.pi))-n*np.log10(sigma[0,i])\n",
        "    print(mu[0,i], sigma[0,i], np.round(logL,3))"
      ],
      "metadata": {
        "colab": {
          "base_uri": "https://localhost:8080/"
        },
        "id": "ExIA-H1sMTTi",
        "outputId": "16658858-3147-4f79-c054-e130a66b76f6"
      },
      "execution_count": 8,
      "outputs": [
        {
          "output_type": "stream",
          "name": "stdout",
          "text": [
            "The mean is [[3 2 3 5 5 5 6]]\n",
            "The std is [[2 3 3 5 4 3 6]]\n",
            "3 2 -23.901\n",
            "2 3 -17.008\n",
            "3 3 -14.013\n",
            "5 5 -8.304\n",
            "5 4 -8.688\n",
            "5 3 -10.024\n",
            "6 6 -8.007\n"
          ]
        }
      ]
    }
  ]
}