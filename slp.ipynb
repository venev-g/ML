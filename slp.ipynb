{
  "nbformat": 4,
  "nbformat_minor": 0,
  "metadata": {
    "colab": {
      "provenance": [],
      "authorship_tag": "ABX9TyOS6irjXIKeulI85/zc9v5t",
      "include_colab_link": true
    },
    "kernelspec": {
      "name": "python3",
      "display_name": "Python 3"
    },
    "language_info": {
      "name": "python"
    }
  },
  "cells": [
    {
      "cell_type": "markdown",
      "metadata": {
        "id": "view-in-github",
        "colab_type": "text"
      },
      "source": [
        "<a href=\"https://colab.research.google.com/github/venev-g/ML/blob/main/slp.ipynb\" target=\"_parent\"><img src=\"https://colab.research.google.com/assets/colab-badge.svg\" alt=\"Open In Colab\"/></a>"
      ]
    },
    {
      "cell_type": "code",
      "source": [
        "import numpy as np"
      ],
      "metadata": {
        "id": "_ZhCm2yoS0HJ"
      },
      "execution_count": null,
      "outputs": []
    },
    {
      "cell_type": "code",
      "execution_count": null,
      "metadata": {
        "id": "AqJzbUVgSWAU"
      },
      "outputs": [],
      "source": [
        "# Simple neural network with\n",
        "#   3 input neurons\n",
        "#   1 output neuron\n",
        "\n",
        "inputs = [1.2, 5.1, 2.1]\n",
        "weights = [3.1, 2.1, 8.7]\n",
        "bias = 3"
      ]
    },
    {
      "cell_type": "code",
      "source": [
        "output = np.dot(weights, inputs) + bias\n",
        "print(f\"Output: {output}\")"
      ],
      "metadata": {
        "id": "G13Yt328SuUn"
      },
      "execution_count": null,
      "outputs": []
    },
    {
      "cell_type": "code",
      "source": [
        "# Neural network with one hidden layer\n",
        "\n",
        "inputs = [1, 2, 3, 2.5]\n",
        "weights1 = [0.2, 0.8, -0.5, 1.0]\n",
        "weights2 = [0.5, -0.91, 0.26, -0.5]\n",
        "weights3 = [-0.26, -0.27, 0.17, 0.87]\n",
        "weights = [weights1, weights2, weights3]\n",
        "biases = [2, 3, 0.5]"
      ],
      "metadata": {
        "id": "57j0Act7S79k"
      },
      "execution_count": null,
      "outputs": []
    },
    {
      "cell_type": "code",
      "source": [
        "output = np.dot(inputs, np.transpose(weights)) + biases\n",
        "print(f\"Output: {output}\")"
      ],
      "metadata": {
        "id": "0I7GfmmpUDBb"
      },
      "execution_count": null,
      "outputs": []
    },
    {
      "cell_type": "code",
      "source": [
        "inputs=np.array([1,2,3,2.5])"
      ],
      "metadata": {
        "id": "9dgMeIFfahUV"
      },
      "execution_count": null,
      "outputs": []
    },
    {
      "cell_type": "code",
      "source": [
        "# Neural network with 2 hidden layers\n",
        "weights = []\n",
        "# Layer 1 weights (3 neurons)\n",
        "weights.append(np.array([\n",
        "    [0.2, 0.8, -0.5, 1.0],\n",
        "    [0.5, -0.91, 0.26, -0.5],\n",
        "    [-0.26, -0.27, 0.17, 0.87],\n",
        "]))\n",
        "# Layer 2 weights (3 neurons)\n",
        "weights.append(np.array([\n",
        "    [0.1, 0.14, 0.5],\n",
        "    [0.5, 0.12, 0.33],\n",
        "    [0.44, 0.73, 0.13]\n",
        "]))\n",
        "biases = np.array([\n",
        "    [2, 3, 0.5],\n",
        "    [1, 2, -0.5],\n",
        "])"
      ],
      "metadata": {
        "id": "nakSDuVDUgZ-"
      },
      "execution_count": null,
      "outputs": []
    },
    {
      "cell_type": "code",
      "source": [
        "output = np.dot(weights[0], inputs) + biases[0]\n",
        "output = np.dot(weights[1], output) + biases[1]\n",
        "print(f\"Output: {output}\")"
      ],
      "metadata": {
        "id": "8yC8hvGmVjMv"
      },
      "execution_count": null,
      "outputs": []
    },
    {
      "cell_type": "code",
      "source": [
        "# Activation function\n",
        "\n",
        "inputs = np.array([1.2, 5.1, 2.1])\n",
        "weights = np.array([3.1, 2.1, 8.7])\n",
        "bias = 3\n",
        "\n",
        "output = np.dot(inputs, weights) + bias\n",
        "print(f\"Output: {output}\")"
      ],
      "metadata": {
        "id": "5mcQDMXBhmNM"
      },
      "execution_count": null,
      "outputs": []
    },
    {
      "cell_type": "code",
      "source": [
        "import math\n",
        "def sigmoid(x):\n",
        "    return 1 / (1 + math.exp(-x))\n",
        "\n",
        "print(f\"After sigmoid activation: {sigmoid(output)}\")"
      ],
      "metadata": {
        "id": "cO1Sbsf8iArJ"
      },
      "execution_count": null,
      "outputs": []
    },
    {
      "cell_type": "code",
      "source": [
        "def tanh(x):\n",
        "    return (math.exp(x) - math.exp(-x)) / (math.exp(x) + math.exp(-x))\n",
        "\n",
        "print(f\"After tanh activation: {tanh(output)}\")"
      ],
      "metadata": {
        "id": "y3tpCx-8iY7o"
      },
      "execution_count": null,
      "outputs": []
    },
    {
      "cell_type": "code",
      "source": [
        "def relu(x):\n",
        "    return max(0, x)\n",
        "\n",
        "print(f\"After relu activation: {relu(output)}\")"
      ],
      "metadata": {
        "id": "qgGFeRNZi0fT"
      },
      "execution_count": null,
      "outputs": []
    }
  ]
}