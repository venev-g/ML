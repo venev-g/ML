{
  "nbformat": 4,
  "nbformat_minor": 0,
  "metadata": {
    "colab": {
      "provenance": [],
      "authorship_tag": "ABX9TyMzivLYzkmMdfLiPJvndXkp",
      "include_colab_link": true
    },
    "kernelspec": {
      "name": "python3",
      "display_name": "Python 3"
    },
    "language_info": {
      "name": "python"
    }
  },
  "cells": [
    {
      "cell_type": "markdown",
      "metadata": {
        "id": "view-in-github",
        "colab_type": "text"
      },
      "source": [
        "<a href=\"https://colab.research.google.com/github/venev-g/ML/blob/main/pca.ipynb\" target=\"_parent\"><img src=\"https://colab.research.google.com/assets/colab-badge.svg\" alt=\"Open In Colab\"/></a>"
      ]
    },
    {
      "cell_type": "code",
      "source": [
        "import matplotlib.pyplot as plt\n",
        "import seaborn as sns\n",
        "import numpy as np\n",
        "import pandas as pd\n",
        "get_ipython().run_line_magic('matplotlib', 'inline')"
      ],
      "metadata": {
        "id": "HACXjsjkRDpu"
      },
      "execution_count": null,
      "outputs": []
    },
    {
      "cell_type": "code",
      "source": [
        "# Load the dataset\n",
        "from sklearn.datasets import load_breast_cancer\n",
        "cancer_dataset = load_breast_cancer()"
      ],
      "metadata": {
        "id": "ig-4Oi2XRnYa"
      },
      "execution_count": null,
      "outputs": []
    },
    {
      "cell_type": "code",
      "source": [
        "df = pd.DataFrame(cancer_dataset['data'], columns=cancer_dataset['feature_names'])\n",
        "df.head()"
      ],
      "metadata": {
        "id": "ycXQJTZ1RwsC"
      },
      "execution_count": null,
      "outputs": []
    },
    {
      "cell_type": "code",
      "source": [
        "from sklearn.preprocessing import StandardScaler\n",
        "scaler = StandardScaler()"
      ],
      "metadata": {
        "id": "0LSLuJKWR6K6"
      },
      "execution_count": null,
      "outputs": []
    },
    {
      "cell_type": "code",
      "source": [
        "scaler.fit(df)"
      ],
      "metadata": {
        "id": "GdDl9Bf0SuxZ"
      },
      "execution_count": null,
      "outputs": []
    },
    {
      "cell_type": "code",
      "source": [
        "scaled_data = scaler.transform(df)"
      ],
      "metadata": {
        "id": "vUyfs-c1SxC6"
      },
      "execution_count": null,
      "outputs": []
    },
    {
      "cell_type": "code",
      "source": [
        "scaled_data"
      ],
      "metadata": {
        "id": "xb46OWehS0mM"
      },
      "execution_count": null,
      "outputs": []
    },
    {
      "cell_type": "code",
      "source": [
        "from sklearn.decomposition  import PCA"
      ],
      "metadata": {
        "id": "aOh8Zx5uS3Va"
      },
      "execution_count": null,
      "outputs": []
    },
    {
      "cell_type": "code",
      "source": [
        "pca = PCA(n_components = 2)"
      ],
      "metadata": {
        "id": "Ypjc7aLoS6NK"
      },
      "execution_count": null,
      "outputs": []
    },
    {
      "cell_type": "code",
      "source": [
        "data_pca = pca.fit_transform(scaled_data)"
      ],
      "metadata": {
        "id": "oxLQgiU0S9GO"
      },
      "execution_count": null,
      "outputs": []
    },
    {
      "cell_type": "code",
      "source": [
        "data_pca"
      ],
      "metadata": {
        "id": "XUhi-DA5TDx7"
      },
      "execution_count": null,
      "outputs": []
    },
    {
      "cell_type": "code",
      "source": [
        "pca.explained_variance_"
      ],
      "metadata": {
        "id": "by1YhYBCTINI"
      },
      "execution_count": null,
      "outputs": []
    },
    {
      "cell_type": "code",
      "source": [
        "plt.figure(figsize=(8, 6))\n",
        "plt.scatter(data_pca[:, 0], data_pca[:, 1], c=cancer_dataset['target'], cmap='plasma')\n",
        "plt.xlabel(\"First Principal Component\")\n",
        "plt.ylabel(\"Second Principal Component\")"
      ],
      "metadata": {
        "id": "3MDxG-_2TLQq"
      },
      "execution_count": null,
      "outputs": []
    }
  ]
}