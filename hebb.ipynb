{
  "nbformat": 4,
  "nbformat_minor": 0,
  "metadata": {
    "colab": {
      "provenance": [],
      "authorship_tag": "ABX9TyPbc/vUxUVF+ll98tm+SCrZ",
      "include_colab_link": true
    },
    "kernelspec": {
      "name": "python3",
      "display_name": "Python 3"
    },
    "language_info": {
      "name": "python"
    }
  },
  "cells": [
    {
      "cell_type": "markdown",
      "metadata": {
        "id": "view-in-github",
        "colab_type": "text"
      },
      "source": [
        "<a href=\"https://colab.research.google.com/github/venev-g/ML/blob/main/hebb.ipynb\" target=\"_parent\"><img src=\"https://colab.research.google.com/assets/colab-badge.svg\" alt=\"Open In Colab\"/></a>"
      ]
    },
    {
      "cell_type": "code",
      "execution_count": null,
      "metadata": {
        "id": "vg_5llemFvho"
      },
      "outputs": [],
      "source": [
        "import numpy as np"
      ]
    },
    {
      "cell_type": "code",
      "source": [
        "# initial values\n",
        "INPUTS = np.array(\n",
        "    [\n",
        "        [ 1,  1],\n",
        "        [ 1, -1],\n",
        "        [-1,  1],\n",
        "        [-1, -1],\n",
        "    ]\n",
        ")\n",
        "outputs = np.array([1, -1, -1, -1])"
      ],
      "metadata": {
        "id": "r5g9RwT8G6fl"
      },
      "execution_count": null,
      "outputs": []
    },
    {
      "cell_type": "code",
      "source": [
        "# Hebb Algorithm\n",
        "def hebb(outputs, weights, bias):\n",
        "    for i in range(len(INPUTS)):\n",
        "        weights[0] = weights[0] + (INPUTS[i][0] * outputs[i])\n",
        "        weights[1] = weights[1] + (INPUTS[i][1] * outputs[i])\n",
        "        bias = bias + (1 * outputs[i])\n",
        "\n",
        "        for j in range(2):\n",
        "            print(f\"Weight updated: {weights[j]:4.2f}\")\n",
        "        print(f\"Bias updated: {bias:4.2f}\")\n",
        "        print(\"-\" * 20)\n",
        "    return weights, bias"
      ],
      "metadata": {
        "id": "D0sluw9YHa8L"
      },
      "execution_count": null,
      "outputs": []
    },
    {
      "cell_type": "code",
      "source": [
        "and_outputs = np.array([1, -1, -1, -1])\n",
        "weights = np.array([0.0, 0.0])\n",
        "bias = 0"
      ],
      "metadata": {
        "id": "oRAm05D4JHHF"
      },
      "execution_count": null,
      "outputs": []
    },
    {
      "cell_type": "code",
      "source": [
        "weights, bias = hebb(and_outputs, weights, bias)"
      ],
      "metadata": {
        "id": "Q7tJ5BlpJO_c"
      },
      "execution_count": null,
      "outputs": []
    }
  ]
}