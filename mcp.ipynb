{
  "nbformat": 4,
  "nbformat_minor": 0,
  "metadata": {
    "colab": {
      "provenance": [],
      "authorship_tag": "ABX9TyMH2cEn//Trq+F15vK+aZoL",
      "include_colab_link": true
    },
    "kernelspec": {
      "name": "python3",
      "display_name": "Python 3"
    },
    "language_info": {
      "name": "python"
    }
  },
  "cells": [
    {
      "cell_type": "markdown",
      "metadata": {
        "id": "view-in-github",
        "colab_type": "text"
      },
      "source": [
        "<a href=\"https://colab.research.google.com/github/venev-g/ML/blob/main/mcp.ipynb\" target=\"_parent\"><img src=\"https://colab.research.google.com/assets/colab-badge.svg\" alt=\"Open In Colab\"/></a>"
      ]
    },
    {
      "cell_type": "code",
      "source": [
        "import numpy as np"
      ],
      "metadata": {
        "id": "EnFE_XKzLaRD"
      },
      "execution_count": null,
      "outputs": []
    },
    {
      "cell_type": "code",
      "source": [
        "# Array of weights\n",
        "weights = np.array([1, 1])\n",
        "print(f\"Weights: {weights}\")"
      ],
      "metadata": {
        "id": "I9luXEcSLL3z"
      },
      "execution_count": null,
      "outputs": []
    },
    {
      "cell_type": "code",
      "source": [
        "# Matrix of inputs\n",
        "input_table = [\n",
        "    [0, 0],\n",
        "    [0, 1],\n",
        "    [1, 0],\n",
        "    [1, 1],\n",
        "]\n",
        "\n",
        "print(f\"Input table:\\n{input_table}\")"
      ],
      "metadata": {
        "id": "14xjMl9sMBgH"
      },
      "execution_count": null,
      "outputs": []
    },
    {
      "cell_type": "code",
      "source": [
        "# Dot product matrix of inputs and weights\n",
        "dot_products = input_table @ weights"
      ],
      "metadata": {
        "id": "ZH-LPjufLtQE"
      },
      "execution_count": null,
      "outputs": []
    },
    {
      "cell_type": "code",
      "source": [
        "print(f\"Dot products: {dot_products}\")"
      ],
      "metadata": {
        "id": "jogssdLBNCoW"
      },
      "execution_count": null,
      "outputs": []
    },
    {
      "cell_type": "code",
      "source": [
        "def linear_threshold_gate(dot: int, T: float):\n",
        "    '''Returns the binary threshold output'''\n",
        "    if dot >= T:\n",
        "        return 1\n",
        "    return 0"
      ],
      "metadata": {
        "id": "2XqpVPzbNmKF"
      },
      "execution_count": null,
      "outputs": []
    },
    {
      "cell_type": "code",
      "source": [
        "threshold = 1 # OR operation\n",
        "for  i in range(0, len(input_table)):\n",
        "    activation = linear_threshold_gate(dot_products[i], threshold)\n",
        "    print(f\"Activation: {activation}\")"
      ],
      "metadata": {
        "id": "aF5NyQ5VN-7a"
      },
      "execution_count": null,
      "outputs": []
    }
  ]
}