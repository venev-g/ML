{
  "nbformat": 4,
  "nbformat_minor": 0,
  "metadata": {
    "colab": {
      "provenance": [],
      "authorship_tag": "ABX9TyMsYZDOldpBgZMPfrjr5KrB",
      "include_colab_link": true
    },
    "kernelspec": {
      "name": "python3",
      "display_name": "Python 3"
    },
    "language_info": {
      "name": "python"
    }
  },
  "cells": [
    {
      "cell_type": "markdown",
      "metadata": {
        "id": "view-in-github",
        "colab_type": "text"
      },
      "source": [
        "<a href=\"https://colab.research.google.com/github/venev-g/ML/blob/main/multiple_reg.ipynb\" target=\"_parent\"><img src=\"https://colab.research.google.com/assets/colab-badge.svg\" alt=\"Open In Colab\"/></a>"
      ]
    },
    {
      "cell_type": "code",
      "source": [
        "import numpy as np\n",
        "import pandas as pd\n",
        "import matplotlib.pyplot as plt\n",
        "%matplotlib inline"
      ],
      "metadata": {
        "id": "rDGDOsBHTrGV"
      },
      "execution_count": null,
      "outputs": []
    },
    {
      "cell_type": "code",
      "source": [
        "df = pd.read_csv(\"https://raw.githubusercontent.com/venev-g/Git-Tutorial/main/50_Startups.csv\")\n",
        "df.head()"
      ],
      "metadata": {
        "id": "9Z2LMy90UT8d"
      },
      "execution_count": null,
      "outputs": []
    },
    {
      "cell_type": "code",
      "source": [
        "# Drop unnecessary columns (state)\n",
        "df.drop(\n",
        "    labels = [\"State\"],\n",
        "    axis = 'columns',\n",
        "    inplace = True\n",
        ")\n",
        "df.head()"
      ],
      "metadata": {
        "id": "ndf4mM0xUeb_"
      },
      "execution_count": null,
      "outputs": []
    },
    {
      "cell_type": "code",
      "source": [
        "# Checking for null values\n",
        "df.isnull().sum()"
      ],
      "metadata": {
        "id": "nOnge3ar4cDR"
      },
      "execution_count": null,
      "outputs": []
    },
    {
      "cell_type": "code",
      "source": [
        "# Visualization\n",
        "import seaborn as sns\n",
        "sns.pairplot(data=df)"
      ],
      "metadata": {
        "id": "lhjn2I1I4jAK"
      },
      "execution_count": null,
      "outputs": []
    },
    {
      "cell_type": "code",
      "source": [
        "df.corr()"
      ],
      "metadata": {
        "id": "G9_XKbrB711X"
      },
      "execution_count": null,
      "outputs": []
    },
    {
      "cell_type": "code",
      "source": [
        "# Dropping administration column as well\n",
        "df.drop(labels=[\"Administration\"], axis='columns', inplace=True)\n",
        "df.head()"
      ],
      "metadata": {
        "id": "Xl7txVBSS4_t"
      },
      "execution_count": null,
      "outputs": []
    },
    {
      "cell_type": "code",
      "source": [
        "from sklearn.model_selection import train_test_split\n",
        "from sklearn.linear_model import LinearRegression\n",
        "\n",
        "X = df.iloc[:, :-1]\n",
        "y = df.iloc[:, -1]\n",
        "\n",
        "X_train, X_test, y_train, y_test = train_test_split(X, y, test_size=0.2, random_state=42)\n",
        "regression = LinearRegression()\n",
        "regression.fit(X_train, y_train)"
      ],
      "metadata": {
        "id": "T9ll1qjKTB3L"
      },
      "execution_count": null,
      "outputs": []
    },
    {
      "cell_type": "code",
      "source": [
        "from sklearn.metrics import r2_score\n",
        "\n",
        "y_pred = regression.predict(X_test)\n",
        "score = r2_score(y_test, y_pred)\n",
        "\"%0.2f%%\" % (score * 100)"
      ],
      "metadata": {
        "id": "2zVqbD8gUi1V"
      },
      "execution_count": null,
      "outputs": []
    },
    {
      "cell_type": "code",
      "source": [
        "fig, ax = plt.subplots()\n",
        "sns.scatterplot(y_test, ax=ax, label=\"Actual\")\n",
        "sns.scatterplot(y_pred, ax=ax, label=\"Predicted\")\n",
        "ax.legend()"
      ],
      "metadata": {
        "id": "Y5sQ6R1MVr1n"
      },
      "execution_count": null,
      "outputs": []
    },
    {
      "cell_type": "code",
      "source": [
        "y_pred = pd.Series(y_pred, name=\"Predicted\", index=y_test.index.values)\n",
        "test_data = X_test.join([y_test,y_pred])\n",
        "\n",
        "sns.scatterplot(data=test_data, x='R&D Spend', y='Marketing Spend', size='Profit')\n",
        "sns.scatterplot(data=test_data, x='R&D Spend', y='Marketing Spend', size='Predicted')"
      ],
      "metadata": {
        "id": "OWcuPfMQkKOa"
      },
      "execution_count": null,
      "outputs": []
    }
  ]
}